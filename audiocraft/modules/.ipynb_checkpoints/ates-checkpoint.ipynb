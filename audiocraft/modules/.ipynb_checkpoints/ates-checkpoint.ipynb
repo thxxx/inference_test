{
 "cells": [
  {
   "cell_type": "code",
   "execution_count": null,
   "id": "328859af-37c5-4e9c-a6f5-e772b72a22ad",
   "metadata": {},
   "outputs": [],
   "source": [
    "tt = \"adwef (cat)0.7 and (dog)1.2\""
   ]
  }
 ],
 "metadata": {
  "kernelspec": {
   "display_name": "Python 3 (ipykernel)",
   "language": "python",
   "name": "python3"
  },
  "language_info": {
   "codemirror_mode": {
    "name": "ipython",
    "version": 3
   },
   "file_extension": ".py",
   "mimetype": "text/x-python",
   "name": "python",
   "nbconvert_exporter": "python",
   "pygments_lexer": "ipython3",
   "version": "3.10.12"
  }
 },
 "nbformat": 4,
 "nbformat_minor": 5
}
