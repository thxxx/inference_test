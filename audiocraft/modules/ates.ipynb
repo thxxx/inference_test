{
 "cells": [
  {
   "cell_type": "code",
   "execution_count": 1,
   "id": "328859af-37c5-4e9c-a6f5-e772b72a22ad",
   "metadata": {},
   "outputs": [],
   "source": [
    "tt = \"test for (cat)0.7 and (dog)1.2\""
   ]
  },
  {
   "cell_type": "code",
   "execution_count": 15,
   "id": "f76ea0b7-2500-4c0b-8017-8f8a4be3b489",
   "metadata": {},
   "outputs": [
    {
     "data": {
      "text/plain": [
       "[{'value': 'go there', 'weight': 1.1},\n",
       " {'value': 'with my', 'weight': 1.0},\n",
       " {'value': 'friends', 'weight': 0.8},\n",
       " {'value': 'tonight 21 , 2.1', 'weight': 1.0}]"
      ]
     },
     "execution_count": 15,
     "metadata": {},
     "output_type": "execute_result"
    }
   ],
   "source": [
    "import re\n",
    "\n",
    "def parse_text_with_weights(text):\n",
    "    # 결과를 저장할 리스트\n",
    "    results = []\n",
    "    \n",
    "    # 현재 처리 중인 텍스트의 위치\n",
    "    cursor = 0\n",
    "    \n",
    "    # 괄호와 가중치를 찾는 정규 표현식\n",
    "    pattern = re.compile(r\"\\(([^\\)]+)\\)([\\d\\.]+)?\")\n",
    "    \n",
    "    for match in pattern.finditer(text):\n",
    "        pre_text = text[cursor:match.start()].strip()\n",
    "        if pre_text:\n",
    "            # 괄호 앞의 텍스트와 기본 가중치 1.0 추가\n",
    "            results.append({\"value\": pre_text, \"weight\": 1.0})\n",
    "        \n",
    "        # 괄호 안의 텍스트와 가중치\n",
    "        inner_text = match.group(1)\n",
    "        weight = float(match.group(2)) if match.group(2) else 1.0\n",
    "        \n",
    "        results.append({\"value\": inner_text, \"weight\": weight})\n",
    "        \n",
    "        # 커서 위치 업데이트\n",
    "        cursor = match.end()\n",
    "    \n",
    "    # 마지막 괄호 뒤의 텍스트 처리\n",
    "    post_text = text[cursor:].strip()\n",
    "    if post_text:\n",
    "        results.append({\"value\": post_text, \"weight\": 1.0})\n",
    "    \n",
    "    return results\n",
    "\n",
    "# 수정된 코드로 다시 테스트\n",
    "test_text = \"(go there)1.1 with my (friends)0.8 tonight 21 , 2.1\"\n",
    "parse_text_with_weights(test_text)\n"
   ]
  },
  {
   "cell_type": "code",
   "execution_count": null,
   "id": "df754b41-7a50-471d-a294-939851aee4d6",
   "metadata": {},
   "outputs": [],
   "source": []
  },
  {
   "cell_type": "code",
   "execution_count": null,
   "id": "78063272-96e3-4904-b28b-54489feb0eec",
   "metadata": {},
   "outputs": [],
   "source": []
  }
 ],
 "metadata": {
  "kernelspec": {
   "display_name": "Python 3 (ipykernel)",
   "language": "python",
   "name": "python3"
  },
  "language_info": {
   "codemirror_mode": {
    "name": "ipython",
    "version": 3
   },
   "file_extension": ".py",
   "mimetype": "text/x-python",
   "name": "python",
   "nbconvert_exporter": "python",
   "pygments_lexer": "ipython3",
   "version": "3.10.12"
  }
 },
 "nbformat": 4,
 "nbformat_minor": 5
}
