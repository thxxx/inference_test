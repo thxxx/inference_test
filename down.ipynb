{
 "cells": [
  {
   "cell_type": "code",
   "execution_count": 1,
   "id": "69e1a0cc-f7b4-47de-9df9-ce817014d7fe",
   "metadata": {},
   "outputs": [
    {
     "data": {
      "application/vnd.jupyter.widget-view+json": {
       "model_id": "9332c414814348ec95a40b04d3393b6c",
       "version_major": 2,
       "version_minor": 0
      },
      "text/plain": [
       "audiogen_wav_36.pth:   0%|          | 0.00/7.36G [00:00<?, ?B/s]"
      ]
     },
     "metadata": {},
     "output_type": "display_data"
    },
    {
     "data": {
      "text/plain": [
       "'weight/audiogen_wav_36.pth'"
      ]
     },
     "execution_count": 1,
     "metadata": {},
     "output_type": "execute_result"
    }
   ],
   "source": [
    "# down\n",
    "\n",
    "# Download code\n",
    "\n",
    "from huggingface_hub import hf_hub_download\n",
    "hf_hub_download(repo_id=\"Daniel777/audiogen_wav_base\", filename=\"audiogen_wav_36.pth\", local_dir=\"weight\")"
   ]
  },
  {
   "cell_type": "code",
   "execution_count": 2,
   "id": "02cc080a-9f33-4b20-978b-45d5219ad1c3",
   "metadata": {},
   "outputs": [
    {
     "data": {
      "application/vnd.jupyter.widget-view+json": {
       "model_id": "b0bd8729d6304e24a4b21df2f49c7e60",
       "version_major": 2,
       "version_minor": 0
      },
      "text/plain": [
       "audiogen_wav_long_21.pth:   0%|          | 0.00/7.36G [00:00<?, ?B/s]"
      ]
     },
     "metadata": {},
     "output_type": "display_data"
    },
    {
     "data": {
      "text/plain": [
       "'weight/audiogen_wav_long_21.pth'"
      ]
     },
     "execution_count": 2,
     "metadata": {},
     "output_type": "execute_result"
    }
   ],
   "source": [
    "from huggingface_hub import hf_hub_download\n",
    "hf_hub_download(repo_id=\"Daniel777/audiogen_wav_long\", filename=\"audiogen_wav_long_21.pth\", local_dir=\"weight\")"
   ]
  },
  {
   "cell_type": "code",
   "execution_count": 1,
   "id": "b56fe87a-eb3e-49c0-ac45-762afae13a1c",
   "metadata": {},
   "outputs": [
    {
     "data": {
      "application/vnd.jupyter.widget-view+json": {
       "model_id": "c943f139e5c64e24af76dd64a67bbb34",
       "version_major": 2,
       "version_minor": 0
      },
      "text/plain": [
       "best.pth:   0%|          | 0.00/8.70G [00:00<?, ?B/s]"
      ]
     },
     "metadata": {},
     "output_type": "display_data"
    },
    {
     "data": {
      "text/plain": [
       "'weight/best.pth'"
      ]
     },
     "execution_count": 1,
     "metadata": {},
     "output_type": "execute_result"
    }
   ],
   "source": [
    "from huggingface_hub import hf_hub_download\n",
    "hf_hub_download(repo_id=\"youngdicey/audiogen-speech-ads1-finetuning\", filename=\"best.pth\", local_dir=\"weight\")"
   ]
  },
  {
   "cell_type": "code",
   "execution_count": null,
   "id": "70bc41f1-4ade-4484-88c8-d00276c904cd",
   "metadata": {},
   "outputs": [],
   "source": []
  }
 ],
 "metadata": {
  "kernelspec": {
   "display_name": "Python 3 (ipykernel)",
   "language": "python",
   "name": "python3"
  },
  "language_info": {
   "codemirror_mode": {
    "name": "ipython",
    "version": 3
   },
   "file_extension": ".py",
   "mimetype": "text/x-python",
   "name": "python",
   "nbconvert_exporter": "python",
   "pygments_lexer": "ipython3",
   "version": "3.10.12"
  }
 },
 "nbformat": 4,
 "nbformat_minor": 5
}
